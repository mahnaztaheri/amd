{
  "nbformat": 4,
  "nbformat_minor": 0,
  "metadata": {
    "colab": {
      "provenance": []
    },
    "kernelspec": {
      "name": "python3",
      "display_name": "Python 3"
    },
    "language_info": {
      "name": "python"
    }
  },
  "cells": [
    {
      "cell_type": "code",
      "execution_count": 1,
      "metadata": {
        "id": "R2-Tg0GOBoj8"
      },
      "outputs": [],
      "source": [
        "!apt-get install openjdk-8-jdk-headless -qq > /dev/null\n",
        "!wget -q http://archive.apache.org/dist/spark/spark-3.1.1/spark-3.1.1-bin-hadoop3.2.tgz\n",
        "!tar xf spark-3.1.1-bin-hadoop3.2.tgz\n",
        "!pip install -q findspark"
      ]
    },
    {
      "cell_type": "code",
      "source": [
        "import os"
      ],
      "metadata": {
        "id": "DsloHDjqIMsP"
      },
      "execution_count": 2,
      "outputs": []
    },
    {
      "cell_type": "code",
      "source": [
        "os.environ[\"JAVA_HOME\"] = \"/usr/lib/jvm/java-8-openjdk-amd64\"\n",
        "os.environ[\"SPARK_HOME\"] = \"/content/spark-3.1.1-bin-hadoop3.2\""
      ],
      "metadata": {
        "id": "RwgWE7P7INc6"
      },
      "execution_count": 3,
      "outputs": []
    },
    {
      "cell_type": "code",
      "source": [
        "import findspark\n",
        "findspark.init()\n",
        "\n",
        "from pyspark.sql import SparkSession"
      ],
      "metadata": {
        "id": "_cVmezUkIQkV"
      },
      "execution_count": 4,
      "outputs": []
    },
    {
      "cell_type": "code",
      "source": [
        "spark = SparkSession.builder.master(\"local[*]\").getOrCreate()\n",
        "spark"
      ],
      "metadata": {
        "colab": {
          "base_uri": "https://localhost:8080/",
          "height": 219
        },
        "id": "leG5s6M9IVOO",
        "outputId": "6f842fec-417c-4ab4-e777-9c8eff25aca3"
      },
      "execution_count": 5,
      "outputs": [
        {
          "output_type": "execute_result",
          "data": {
            "text/plain": [
              "<pyspark.sql.session.SparkSession at 0x7f17f0f26cb0>"
            ],
            "text/html": [
              "\n",
              "            <div>\n",
              "                <p><b>SparkSession - in-memory</b></p>\n",
              "                \n",
              "        <div>\n",
              "            <p><b>SparkContext</b></p>\n",
              "\n",
              "            <p><a href=\"http://9e902aeaf2bf:4040\">Spark UI</a></p>\n",
              "\n",
              "            <dl>\n",
              "              <dt>Version</dt>\n",
              "                <dd><code>v3.1.1</code></dd>\n",
              "              <dt>Master</dt>\n",
              "                <dd><code>local[*]</code></dd>\n",
              "              <dt>AppName</dt>\n",
              "                <dd><code>pyspark-shell</code></dd>\n",
              "            </dl>\n",
              "        </div>\n",
              "        \n",
              "            </div>\n",
              "        "
            ]
          },
          "metadata": {},
          "execution_count": 5
        }
      ]
    },
    {
      "cell_type": "code",
      "source": [
        "!kaggle datasets download -d asaniczka/1-3m-linkedin-jobs-and-skills-2024 --unzip"
      ],
      "metadata": {
        "colab": {
          "base_uri": "https://localhost:8080/"
        },
        "id": "eSfm7ekdIZkI",
        "outputId": "32e1bde0-861c-43b5-d460-7daeaa78a494"
      },
      "execution_count": 6,
      "outputs": [
        {
          "output_type": "stream",
          "name": "stdout",
          "text": [
            "Dataset URL: https://www.kaggle.com/datasets/asaniczka/1-3m-linkedin-jobs-and-skills-2024\n",
            "License(s): ODC Attribution License (ODC-By)\n",
            "Downloading 1-3m-linkedin-jobs-and-skills-2024.zip to /content\n",
            " 99% 1.87G/1.88G [00:27<00:00, 117MB/s] \n",
            "100% 1.88G/1.88G [00:27<00:00, 72.6MB/s]\n"
          ]
        }
      ]
    },
    {
      "cell_type": "code",
      "source": [
        "data = spark.read.csv('/content/job_skills.csv', header=True, inferSchema=True)"
      ],
      "metadata": {
        "id": "D9s3yXLFIchq"
      },
      "execution_count": 6,
      "outputs": []
    },
    {
      "cell_type": "code",
      "source": [
        "data = data.sample(0.01, seed=123)"
      ],
      "metadata": {
        "id": "pnCYUkcFIdT6"
      },
      "execution_count": 7,
      "outputs": []
    },
    {
      "cell_type": "code",
      "source": [
        "data.take(5)"
      ],
      "metadata": {
        "colab": {
          "base_uri": "https://localhost:8080/"
        },
        "id": "_qQZQXjYIkBa",
        "outputId": "615c3903-0f6c-4e91-cf20-69adf1226be1"
      },
      "execution_count": 8,
      "outputs": [
        {
          "output_type": "execute_result",
          "data": {
            "text/plain": [
              "[Row(job_link='https://www.linkedin.com/jobs/view/assistant-center-operations-director-at-concentra-3800509465', job_skills='Service Mentality, Attention to Detail, Sense of Urgency, Initiative, Flexibility, Logic, Problemsolving, Customer service, Tact, Professionalism, HIPAA, PHI, Federal and state laws, Strong service mentality, Telephone etiquette, Personal etiquette, Warm, Positive, Energetic, Professional, Oral communication, Written communication, Tactful communication, Diplomatic communication, Personnel recruitment, Performance management, Performance assessment, Selfdevelopment, Proficient in computer applications, Word, Excel, Coordinating, Prioritizing, Multitasking, Opportunity identification, Plan of action development, Plan implementation, Plan evaluation, Conflict resolution, 401(k) Retirement Plan, Medical Plan, Vision Plan, Prescription Plan, Telehealth Plan, Dental Plan, Life and Disability Insurance, Paid Time Off, Extended Illness Days, Colleague Referral Bonus, Tuition Reimbursement, Commuter Benefits, Dependent Care Spending Account, Employee Discounts'),\n",
              " Row(job_link='https://www.linkedin.com/jobs/view/teacher-department-head-at-north-bay-children-s-center-3776141591', job_skills='ECE units, Teaching experience, Child Development Associate Teacher Permit'),\n",
              " Row(job_link='https://www.linkedin.com/jobs/view/staff-quantity-surveyor-at-aecom-3803883342', job_skills=\"Quantity Surveying, Cost Management, Construction Management, Value Engineering, Estimating, Scheduling, Contract Management, Project Management, Microsoft Office Suite, BlueBeam CAD, Extreme, CostX, OnScreen Takeoff, RS Means, NECA, GMP, Design Build, CPM, Primavera, AutoCAD, Revit, Building Information Modeling (BIM), Mechanical Electrical and Plumbing (MEP), Fire Protection, Civil Engineering, Structural Engineering, Architecture, Bachelor's Degree in Quantity Surveying Engineering Architecture or Construction, 4+ years of experience in Quantity Surveying or related field, Excellent oral and written communication skills, Ability to read and interpret drawings specifications RequestsforProposals and contracts, Ability to negotiate contracts and pricing change orders, Experience with GMP and Design Build contracts, Experience in Facilities and building projects, Experience on Cost Management on Data Center Projects\"),\n",
              " Row(job_link='https://www.linkedin.com/jobs/view/driver-cdl-b-at-iron-mountain-3732229879', job_skills='CDL B, Truck driving, Customer service, Route transportation, Preemployment substance abuse screening, Background check, DOT physical, Lifting heavy objects, Walking standing sitting for extended periods'),\n",
              " Row(job_link='https://www.linkedin.com/jobs/view/part-time-night-auditor-at-schulte-hospitality-group-3770058583', job_skills='Accounting, Night Auditing, PMS (Property Management System), Front Desk Operations, Guest Relations, Cash Handling, Hotel Security, Multitasking, Communication, Teamwork, Customer Service, Basic Accounting, Math Skills')]"
            ]
          },
          "metadata": {},
          "execution_count": 8
        }
      ]
    },
    {
      "cell_type": "code",
      "source": [
        "import nltk\n",
        "from nltk.tokenize import word_tokenize\n",
        "from nltk.corpus import stopwords\n",
        "from nltk.stem import WordNetLemmatizer\n",
        "\n",
        "nltk.download('punkt')\n",
        "nltk.download('stopwords')\n",
        "nltk.download('wordnet')"
      ],
      "metadata": {
        "colab": {
          "base_uri": "https://localhost:8080/"
        },
        "id": "mrnsU_NfTdzw",
        "outputId": "087fe474-f29a-4078-e038-1d3fd5bd90ad"
      },
      "execution_count": 9,
      "outputs": [
        {
          "output_type": "stream",
          "name": "stderr",
          "text": [
            "[nltk_data] Downloading package punkt to /root/nltk_data...\n",
            "[nltk_data]   Package punkt is already up-to-date!\n",
            "[nltk_data] Downloading package stopwords to /root/nltk_data...\n",
            "[nltk_data]   Package stopwords is already up-to-date!\n",
            "[nltk_data] Downloading package wordnet to /root/nltk_data...\n",
            "[nltk_data]   Package wordnet is already up-to-date!\n"
          ]
        },
        {
          "output_type": "execute_result",
          "data": {
            "text/plain": [
              "True"
            ]
          },
          "metadata": {},
          "execution_count": 9
        }
      ]
    },
    {
      "cell_type": "code",
      "source": [
        "stop_words = set(stopwords.words('english'))\n",
        "lemmatizer = WordNetLemmatizer()\n",
        "\n",
        "def preprocess_skills(skill):\n",
        "    if skill is None or not isinstance(skill, str):\n",
        "      return []\n",
        "\n",
        "    tokens = word_tokenize(skill)\n",
        "    filtered_tokens = [word.lower() for word in tokens if word.lower() not in stop_words and word.isalnum()]\n",
        "    lemmatized_tokens = [lemmatizer.lemmatize(word) for word in filtered_tokens]\n",
        "    return list(set(lemmatized_tokens))"
      ],
      "metadata": {
        "id": "S4yBMWYwTrvc"
      },
      "execution_count": 10,
      "outputs": []
    },
    {
      "cell_type": "code",
      "source": [
        "baskets = data.rdd.map(lambda x: preprocess_skills(x[1]))"
      ],
      "metadata": {
        "id": "nDlMI0dvfHwC"
      },
      "execution_count": 11,
      "outputs": []
    },
    {
      "cell_type": "code",
      "source": [
        "baskets.take(5)"
      ],
      "metadata": {
        "colab": {
          "base_uri": "https://localhost:8080/"
        },
        "id": "HyfQj9sEbSDf",
        "outputId": "ea121b63-76b8-4027-cca8-cdb5930f5a7d"
      },
      "execution_count": 12,
      "outputs": [
        {
          "output_type": "execute_result",
          "data": {
            "text/plain": [
              "[['development',\n",
              "  'logic',\n",
              "  'oral',\n",
              "  'warm',\n",
              "  'disability',\n",
              "  'referral',\n",
              "  'insurance',\n",
              "  'resolution',\n",
              "  'law',\n",
              "  'extended',\n",
              "  'state',\n",
              "  'attention',\n",
              "  'k',\n",
              "  'initiative',\n",
              "  'proficient',\n",
              "  'assessment',\n",
              "  'customer',\n",
              "  'management',\n",
              "  'urgency',\n",
              "  'employee',\n",
              "  'account',\n",
              "  'energetic',\n",
              "  'phi',\n",
              "  'tactful',\n",
              "  'dependent',\n",
              "  'identification',\n",
              "  'selfdevelopment',\n",
              "  'sense',\n",
              "  'tuition',\n",
              "  'prescription',\n",
              "  'time',\n",
              "  'implementation',\n",
              "  'diplomatic',\n",
              "  'word',\n",
              "  'medical',\n",
              "  'telehealth',\n",
              "  'written',\n",
              "  'problemsolving',\n",
              "  'performance',\n",
              "  'opportunity',\n",
              "  'illness',\n",
              "  'plan',\n",
              "  'life',\n",
              "  'flexibility',\n",
              "  'hipaa',\n",
              "  'communication',\n",
              "  'tact',\n",
              "  'detail',\n",
              "  'positive',\n",
              "  '401',\n",
              "  'personnel',\n",
              "  'application',\n",
              "  'dental',\n",
              "  'multitasking',\n",
              "  'strong',\n",
              "  'service',\n",
              "  'benefit',\n",
              "  'conflict',\n",
              "  'personal',\n",
              "  'telephone',\n",
              "  'etiquette',\n",
              "  'commuter',\n",
              "  'reimbursement',\n",
              "  'professional',\n",
              "  'recruitment',\n",
              "  'professionalism',\n",
              "  'excel',\n",
              "  'bonus',\n",
              "  'action',\n",
              "  'spending',\n",
              "  'vision',\n",
              "  'federal',\n",
              "  'coordinating',\n",
              "  'care',\n",
              "  'computer',\n",
              "  'discount',\n",
              "  'day',\n",
              "  'paid',\n",
              "  'prioritizing',\n",
              "  'mentality',\n",
              "  'retirement',\n",
              "  'evaluation',\n",
              "  'colleague'],\n",
              " ['ece',\n",
              "  'teaching',\n",
              "  'development',\n",
              "  'permit',\n",
              "  'unit',\n",
              "  'associate',\n",
              "  'child',\n",
              "  'experience',\n",
              "  'teacher'],\n",
              " ['takeoff',\n",
              "  'electrical',\n",
              "  'build',\n",
              "  'r',\n",
              "  'oral',\n",
              "  'estimating',\n",
              "  'autocad',\n",
              "  'mep',\n",
              "  'office',\n",
              "  'cpm',\n",
              "  'gmp',\n",
              "  'ability',\n",
              "  'cost',\n",
              "  'contract',\n",
              "  'facility',\n",
              "  'field',\n",
              "  'information',\n",
              "  'bim',\n",
              "  'read',\n",
              "  'mechanical',\n",
              "  'communication',\n",
              "  'modeling',\n",
              "  'cad',\n",
              "  'requestsforproposals',\n",
              "  'degree',\n",
              "  'data',\n",
              "  'engineering',\n",
              "  'quantity',\n",
              "  'structural',\n",
              "  'suite',\n",
              "  'fire',\n",
              "  'neca',\n",
              "  'building',\n",
              "  'year',\n",
              "  'bluebeam',\n",
              "  'center',\n",
              "  'construction',\n",
              "  'primavera',\n",
              "  'change',\n",
              "  'bachelor',\n",
              "  'order',\n",
              "  'excellent',\n",
              "  'specification',\n",
              "  'negotiate',\n",
              "  'surveying',\n",
              "  'mean',\n",
              "  'plumbing',\n",
              "  'project',\n",
              "  'protection',\n",
              "  'management',\n",
              "  'costx',\n",
              "  'value',\n",
              "  'scheduling',\n",
              "  'extreme',\n",
              "  'design',\n",
              "  'onscreen',\n",
              "  'microsoft',\n",
              "  'revit',\n",
              "  'experience',\n",
              "  'architecture',\n",
              "  'skill',\n",
              "  'drawing',\n",
              "  'written',\n",
              "  'pricing',\n",
              "  'civil',\n",
              "  'related',\n",
              "  'interpret'],\n",
              " ['substance',\n",
              "  'screening',\n",
              "  'standing',\n",
              "  'preemployment',\n",
              "  'background',\n",
              "  'cdl',\n",
              "  'sitting',\n",
              "  'lifting',\n",
              "  'object',\n",
              "  'extended',\n",
              "  'period',\n",
              "  'check',\n",
              "  'driving',\n",
              "  'physical',\n",
              "  'truck',\n",
              "  'transportation',\n",
              "  'walking',\n",
              "  'service',\n",
              "  'heavy',\n",
              "  'customer',\n",
              "  'b',\n",
              "  'abuse',\n",
              "  'route',\n",
              "  'dot'],\n",
              " ['guest',\n",
              "  'auditing',\n",
              "  'hotel',\n",
              "  'relation',\n",
              "  'operation',\n",
              "  'accounting',\n",
              "  'system',\n",
              "  'desk',\n",
              "  'communication',\n",
              "  'basic',\n",
              "  'front',\n",
              "  'pm',\n",
              "  'property',\n",
              "  'cash',\n",
              "  'multitasking',\n",
              "  'service',\n",
              "  'customer',\n",
              "  'management',\n",
              "  'teamwork',\n",
              "  'math',\n",
              "  'handling',\n",
              "  'night',\n",
              "  'security',\n",
              "  'skill']]"
            ]
          },
          "metadata": {},
          "execution_count": 12
        }
      ]
    },
    {
      "cell_type": "code",
      "source": [
        "#total baskets\n",
        "baskets.count()"
      ],
      "metadata": {
        "colab": {
          "base_uri": "https://localhost:8080/"
        },
        "id": "f3X0xEbVJBvL",
        "outputId": "3d1392e0-56d7-4b2d-8517-e6ca3ea5e8e4"
      },
      "execution_count": 13,
      "outputs": [
        {
          "output_type": "execute_result",
          "data": {
            "text/plain": [
              "12868"
            ]
          },
          "metadata": {},
          "execution_count": 13
        }
      ]
    },
    {
      "cell_type": "code",
      "source": [
        "#taking the whole items in a list\n",
        "skills = baskets.flatMap(lambda line: line)"
      ],
      "metadata": {
        "id": "AKYdfTclJM7C"
      },
      "execution_count": 14,
      "outputs": []
    },
    {
      "cell_type": "code",
      "source": [
        "skills.take(50)"
      ],
      "metadata": {
        "colab": {
          "base_uri": "https://localhost:8080/"
        },
        "id": "RnYRSCRTJP21",
        "outputId": "aa53e54b-c291-4152-8563-78de9b6a3c52"
      },
      "execution_count": 15,
      "outputs": [
        {
          "output_type": "execute_result",
          "data": {
            "text/plain": [
              "['development',\n",
              " 'logic',\n",
              " 'oral',\n",
              " 'warm',\n",
              " 'disability',\n",
              " 'referral',\n",
              " 'insurance',\n",
              " 'resolution',\n",
              " 'law',\n",
              " 'extended',\n",
              " 'state',\n",
              " 'attention',\n",
              " 'k',\n",
              " 'initiative',\n",
              " 'proficient',\n",
              " 'assessment',\n",
              " 'customer',\n",
              " 'management',\n",
              " 'urgency',\n",
              " 'employee',\n",
              " 'account',\n",
              " 'energetic',\n",
              " 'phi',\n",
              " 'tactful',\n",
              " 'dependent',\n",
              " 'identification',\n",
              " 'selfdevelopment',\n",
              " 'sense',\n",
              " 'tuition',\n",
              " 'prescription',\n",
              " 'time',\n",
              " 'implementation',\n",
              " 'diplomatic',\n",
              " 'word',\n",
              " 'medical',\n",
              " 'telehealth',\n",
              " 'written',\n",
              " 'problemsolving',\n",
              " 'performance',\n",
              " 'opportunity',\n",
              " 'illness',\n",
              " 'plan',\n",
              " 'life',\n",
              " 'flexibility',\n",
              " 'hipaa',\n",
              " 'communication',\n",
              " 'tact',\n",
              " 'detail',\n",
              " 'positive',\n",
              " '401']"
            ]
          },
          "metadata": {},
          "execution_count": 15
        }
      ]
    },
    {
      "cell_type": "code",
      "source": [
        "#total number of skills\n",
        "skills.count()"
      ],
      "metadata": {
        "colab": {
          "base_uri": "https://localhost:8080/"
        },
        "id": "VYKwyv1pJQi1",
        "outputId": "a72fe2bd-8969-40a0-e6a1-14001007eea8"
      },
      "execution_count": 16,
      "outputs": [
        {
          "output_type": "execute_result",
          "data": {
            "text/plain": [
              "457130"
            ]
          },
          "metadata": {},
          "execution_count": 16
        }
      ]
    },
    {
      "cell_type": "code",
      "source": [
        "#total number of distinct items\n",
        "dis_skills = skills.distinct().collect()\n",
        "len(dis_skills)"
      ],
      "metadata": {
        "colab": {
          "base_uri": "https://localhost:8080/"
        },
        "id": "sch7gU_dJT63",
        "outputId": "3ea828c7-a5db-46a4-c1f5-6c5077a288c8"
      },
      "execution_count": 17,
      "outputs": [
        {
          "output_type": "execute_result",
          "data": {
            "text/plain": [
              "19230"
            ]
          },
          "metadata": {},
          "execution_count": 17
        }
      ]
    },
    {
      "cell_type": "code",
      "source": [
        "#transforming each unique skill to an integer\n",
        "def encoding(item,basket):\n",
        "\n",
        "  unique_skills = item.distinct().collect()\n",
        "\n",
        "  to_int = {item: index for index, item in enumerate(unique_skills)}\n",
        "  to_str = {index: item for item, index in to_int.items()}\n",
        "\n",
        "  skill_en = item.map(lambda x: to_int[x])\n",
        "\n",
        "  baskets_en = basket.map(lambda x: [to_int[item] for item in x])\n",
        "\n",
        "  return baskets_en, skill_en, to_int, to_str"
      ],
      "metadata": {
        "id": "GCYFUQB-G3d8"
      },
      "execution_count": 18,
      "outputs": []
    },
    {
      "cell_type": "code",
      "source": [
        "baskets_en, encoded_skills, to_int, to_str = encoding(skills, baskets)"
      ],
      "metadata": {
        "id": "umDvyULeM_3Q"
      },
      "execution_count": 19,
      "outputs": []
    },
    {
      "cell_type": "code",
      "source": [
        "encoded_skills.take(10)"
      ],
      "metadata": {
        "colab": {
          "base_uri": "https://localhost:8080/"
        },
        "id": "MFRg7hyhOn-S",
        "outputId": "9f34e623-0df0-452e-f8bf-a2d77acd3efe"
      },
      "execution_count": 20,
      "outputs": [
        {
          "output_type": "execute_result",
          "data": {
            "text/plain": [
              "[0, 9573, 6349, 9574, 12776, 12777, 12778, 15955, 12779, 9575]"
            ]
          },
          "metadata": {},
          "execution_count": 20
        }
      ]
    },
    {
      "cell_type": "code",
      "source": [
        "baskets_en.take(2)"
      ],
      "metadata": {
        "colab": {
          "base_uri": "https://localhost:8080/"
        },
        "id": "F2aHGAqgTlqt",
        "outputId": "4b82d026-e737-4fae-b721-bc32cb0ed2a9"
      },
      "execution_count": 21,
      "outputs": [
        {
          "output_type": "execute_result",
          "data": {
            "text/plain": [
              "[[0,\n",
              "  9573,\n",
              "  6349,\n",
              "  9574,\n",
              "  12776,\n",
              "  12777,\n",
              "  12778,\n",
              "  15955,\n",
              "  12779,\n",
              "  9575,\n",
              "  1,\n",
              "  3169,\n",
              "  9576,\n",
              "  3170,\n",
              "  12780,\n",
              "  15956,\n",
              "  6350,\n",
              "  2,\n",
              "  6351,\n",
              "  3171,\n",
              "  3,\n",
              "  3172,\n",
              "  6352,\n",
              "  15957,\n",
              "  12781,\n",
              "  15958,\n",
              "  15959,\n",
              "  3173,\n",
              "  15960,\n",
              "  4,\n",
              "  15961,\n",
              "  3174,\n",
              "  3175,\n",
              "  9577,\n",
              "  5,\n",
              "  6353,\n",
              "  15962,\n",
              "  12782,\n",
              "  12783,\n",
              "  6354,\n",
              "  3176,\n",
              "  12784,\n",
              "  3177,\n",
              "  15963,\n",
              "  15964,\n",
              "  15965,\n",
              "  9578,\n",
              "  12785,\n",
              "  6355,\n",
              "  3178,\n",
              "  15966,\n",
              "  15967,\n",
              "  12786,\n",
              "  6,\n",
              "  9579,\n",
              "  12787,\n",
              "  7,\n",
              "  15968,\n",
              "  9580,\n",
              "  12788,\n",
              "  9581,\n",
              "  15969,\n",
              "  6356,\n",
              "  8,\n",
              "  9582,\n",
              "  6357,\n",
              "  9583,\n",
              "  12789,\n",
              "  9,\n",
              "  6358,\n",
              "  10,\n",
              "  15970,\n",
              "  12790,\n",
              "  9584,\n",
              "  15971,\n",
              "  3179,\n",
              "  3180,\n",
              "  12791,\n",
              "  3181,\n",
              "  12792,\n",
              "  6359,\n",
              "  9585,\n",
              "  3182],\n",
              " [11, 12, 0, 9586, 3183, 9587, 13, 15972, 15973]]"
            ]
          },
          "metadata": {},
          "execution_count": 21
        }
      ]
    },
    {
      "cell_type": "code",
      "source": [
        "#computing the frequecy for each skill\n",
        "def support(rdd):\n",
        "  return (rdd.map(lambda item: (item, 1))\\\n",
        "            .reduceByKey(lambda a,b: a+b)\\\n",
        "            .sortBy(lambda a: a[1], False))"
      ],
      "metadata": {
        "id": "dFVcwT7hJbx2"
      },
      "execution_count": 22,
      "outputs": []
    },
    {
      "cell_type": "code",
      "source": [
        "skills_support = support(encoded_skills)"
      ],
      "metadata": {
        "id": "BprFeHBiJiOT"
      },
      "execution_count": 23,
      "outputs": []
    },
    {
      "cell_type": "code",
      "source": [
        "skills_support.take(100)"
      ],
      "metadata": {
        "colab": {
          "base_uri": "https://localhost:8080/"
        },
        "id": "vq4p8ctgJoR3",
        "outputId": "c65ae7a0-bc7f-4ec9-a9ac-28e4203e38c3"
      },
      "execution_count": 24,
      "outputs": [
        {
          "output_type": "execute_result",
          "data": {
            "text/plain": [
              "[(15965, 6981),\n",
              " (2, 6551),\n",
              " (3193, 4565),\n",
              " (12787, 4398),\n",
              " (15972, 3688),\n",
              " (6350, 3654),\n",
              " (12805, 2773),\n",
              " (6394, 2731),\n",
              " (6382, 2477),\n",
              " (12810, 2417),\n",
              " (3205, 2360),\n",
              " (9584, 2342),\n",
              " (15961, 2230),\n",
              " (15991, 2220),\n",
              " (0, 2213),\n",
              " (12824, 2193),\n",
              " (15975, 2143),\n",
              " (3185, 2117),\n",
              " (5, 2114),\n",
              " (6376, 2081),\n",
              " (3245, 2055),\n",
              " (15986, 2040),\n",
              " (3216, 1953),\n",
              " (3189, 1943),\n",
              " (15992, 1897),\n",
              " (6371, 1776),\n",
              " (3224, 1736),\n",
              " (12782, 1714),\n",
              " (16011, 1676),\n",
              " (6510, 1675),\n",
              " (6385, 1647),\n",
              " (55, 1629),\n",
              " (6389, 1588),\n",
              " (36, 1564),\n",
              " (3243, 1562),\n",
              " (53, 1557),\n",
              " (9590, 1551),\n",
              " (9616, 1510),\n",
              " (12785, 1495),\n",
              " (12834, 1443),\n",
              " (12784, 1406),\n",
              " (12778, 1397),\n",
              " (12795, 1395),\n",
              " (48, 1391),\n",
              " (3169, 1385),\n",
              " (16026, 1375),\n",
              " (15971, 1375),\n",
              " (9600, 1358),\n",
              " (9606, 1356),\n",
              " (9611, 1333),\n",
              " (12812, 1331),\n",
              " (93, 1317),\n",
              " (15985, 1291),\n",
              " (6367, 1248),\n",
              " (12854, 1243),\n",
              " (12850, 1232),\n",
              " (88, 1230),\n",
              " (12833, 1197),\n",
              " (8, 1153),\n",
              " (9605, 1145),\n",
              " (12847, 1123),\n",
              " (9625, 1120),\n",
              " (6369, 1109),\n",
              " (104, 1064),\n",
              " (72, 1059),\n",
              " (6368, 1051),\n",
              " (10, 1048),\n",
              " (68, 1032),\n",
              " (12786, 1029),\n",
              " (3209, 1025),\n",
              " (9618, 1024),\n",
              " (3223, 1017),\n",
              " (6373, 1013),\n",
              " (16147, 1013),\n",
              " (3177, 1013),\n",
              " (9607, 1002),\n",
              " (12829, 995),\n",
              " (15956, 993),\n",
              " (6404, 984),\n",
              " (57, 971),\n",
              " (15962, 967),\n",
              " (9583, 958),\n",
              " (12895, 918),\n",
              " (6399, 914),\n",
              " (16021, 910),\n",
              " (12838, 908),\n",
              " (16001, 906),\n",
              " (12828, 897),\n",
              " (6374, 896),\n",
              " (77, 890),\n",
              " (12783, 882),\n",
              " (32, 877),\n",
              " (3171, 874),\n",
              " (3256, 872),\n",
              " (16009, 866),\n",
              " (3250, 858),\n",
              " (15994, 857),\n",
              " (6446, 837),\n",
              " (6401, 837),\n",
              " (6354, 834)]"
            ]
          },
          "metadata": {},
          "execution_count": 24
        }
      ]
    },
    {
      "cell_type": "code",
      "source": [
        "threshold = 12868 * 0.1"
      ],
      "metadata": {
        "id": "cpTRVYk2k0VK"
      },
      "execution_count": 25,
      "outputs": []
    },
    {
      "cell_type": "code",
      "source": [
        "#adding a threshold to the supports and normalizing them by the total number of baskets\n",
        "filtered_support = skills_support.filter(lambda item: item[1] >= threshold )\\\n",
        "                                  .map(lambda item: (item[0], item[1] / 13056))\\\n",
        "                                  .sortBy(lambda item: item[1], False)"
      ],
      "metadata": {
        "id": "vUjsyE_l3EKj"
      },
      "execution_count": 26,
      "outputs": []
    },
    {
      "cell_type": "code",
      "source": [
        "filtered_support.take(10)"
      ],
      "metadata": {
        "colab": {
          "base_uri": "https://localhost:8080/"
        },
        "id": "jcX0Qne23jsk",
        "outputId": "12bd5ee1-6730-4f74-c197-a68379b2c594"
      },
      "execution_count": 27,
      "outputs": [
        {
          "output_type": "execute_result",
          "data": {
            "text/plain": [
              "[(15965, 0.5346966911764706),\n",
              " (2, 0.5017616421568627),\n",
              " (3193, 0.34964767156862747),\n",
              " (12787, 0.3368566176470588),\n",
              " (15972, 0.2824754901960784),\n",
              " (6350, 0.27987132352941174),\n",
              " (12805, 0.21239276960784315),\n",
              " (6394, 0.20917585784313725),\n",
              " (6382, 0.18972120098039216),\n",
              " (12810, 0.18512561274509803)]"
            ]
          },
          "metadata": {},
          "execution_count": 27
        }
      ]
    },
    {
      "cell_type": "code",
      "source": [
        "frequents = filtered_support.map(lambda item: item[0]).collect()"
      ],
      "metadata": {
        "id": "6JCZsrXK3maq"
      },
      "execution_count": 28,
      "outputs": []
    },
    {
      "cell_type": "code",
      "source": [
        "#finding binary and triple itemsets with their support\n",
        "from itertools import combinations\n",
        "\n",
        "def items_comb(c):\n",
        "\n",
        "  candidate_itemsets = list(combinations(frequents, c))\n",
        "\n",
        "  def itemsets(basket):\n",
        "    return [(itemset, 1) for itemset in candidate_itemsets if all(item in basket for item in itemset)]\n",
        "\n",
        "  candidates = baskets_en.flatMap(itemsets)\\\n",
        "                               .reduceByKey(lambda a, b: a + b)\\\n",
        "                               .filter(lambda itemset: itemset[1] >= threshold)\\\n",
        "                               .map(lambda item: (item[0], item[1] / 13056))\\\n",
        "                               .sortBy(lambda itemset: itemset[1], False)\n",
        "\n",
        "\n",
        "  return candidates.collect()"
      ],
      "metadata": {
        "id": "ivTgEr5Y3tUQ"
      },
      "execution_count": 29,
      "outputs": []
    },
    {
      "cell_type": "code",
      "source": [
        "binary_items = items_comb(2)\n",
        "binary_items"
      ],
      "metadata": {
        "colab": {
          "base_uri": "https://localhost:8080/"
        },
        "id": "_YrHimzT5GHq",
        "outputId": "64e73777-9e0d-4d96-c4d3-547ea8761e1c"
      },
      "execution_count": 30,
      "outputs": [
        {
          "output_type": "execute_result",
          "data": {
            "text/plain": [
              "[((15965, 2), 0.34329044117647056),\n",
              " ((15965, 3193), 0.28921568627450983),\n",
              " ((12787, 6350), 0.2424938725490196),\n",
              " ((15965, 12787), 0.23253676470588236),\n",
              " ((2, 3193), 0.22035845588235295),\n",
              " ((15965, 6350), 0.2115502450980392),\n",
              " ((2, 12787), 0.20235906862745098),\n",
              " ((2, 6350), 0.17769607843137256),\n",
              " ((15965, 15972), 0.17164522058823528),\n",
              " ((15965, 6382), 0.16881127450980393),\n",
              " ((15965, 12805), 0.16337316176470587),\n",
              " ((2, 12805), 0.16207107843137256),\n",
              " ((2, 15972), 0.1565563725490196),\n",
              " ((2, 15961), 0.14238664215686275),\n",
              " ((15965, 6394), 0.13840379901960784),\n",
              " ((3193, 12787), 0.13671875),\n",
              " ((15965, 15961), 0.13097426470588236),\n",
              " ((2, 12810), 0.13074448529411764),\n",
              " ((3193, 15972), 0.12913602941176472),\n",
              " ((15965, 12810), 0.12706801470588236),\n",
              " ((3185, 6376), 0.12277879901960784),\n",
              " ((3193, 6350), 0.12231924019607843),\n",
              " ((2, 6371), 0.12147671568627451),\n",
              " ((15965, 12782), 0.12055759803921569),\n",
              " ((3224, 53), 0.11925551470588236),\n",
              " ((15965, 3185), 0.1174938725490196),\n",
              " ((2, 6382), 0.1174938725490196),\n",
              " ((2, 6394), 0.11680453431372549),\n",
              " ((15965, 15991), 0.11534926470588236),\n",
              " ((15965, 6376), 0.11504289215686274),\n",
              " ((15965, 3224), 0.11488970588235294),\n",
              " ((2, 3185), 0.11465992647058823),\n",
              " ((2, 0), 0.11328125),\n",
              " ((12787, 15972), 0.11174938725490197),\n",
              " ((2, 6376), 0.11090686274509803),\n",
              " ((9584, 16011), 0.1096813725490196),\n",
              " ((2, 15991), 0.1094515931372549),\n",
              " ((2, 12824), 0.10784313725490197),\n",
              " ((15965, 53), 0.10631127450980392),\n",
              " ((6385, 36), 0.10592830882352941),\n",
              " ((12785, 3169), 0.1052389705882353),\n",
              " ((2, 15992), 0.10508578431372549),\n",
              " ((15965, 0), 0.10386029411764706),\n",
              " ((15965, 12824), 0.1015625),\n",
              " ((2, 15975), 0.10003063725490197),\n",
              " ((15965, 12785), 0.09972426470588236),\n",
              " ((2, 3189), 0.09911151960784313),\n",
              " ((15965, 15975), 0.09880514705882353),\n",
              " ((6350, 6510), 0.09880514705882353),\n",
              " ((3193, 6394), 0.09880514705882353)]"
            ]
          },
          "metadata": {},
          "execution_count": 30
        }
      ]
    },
    {
      "cell_type": "code",
      "source": [
        "len(binary_items)"
      ],
      "metadata": {
        "colab": {
          "base_uri": "https://localhost:8080/"
        },
        "id": "XhLX1D115P38",
        "outputId": "fc3b6783-729f-4bda-a870-7240aeaa4009"
      },
      "execution_count": 31,
      "outputs": [
        {
          "output_type": "execute_result",
          "data": {
            "text/plain": [
              "50"
            ]
          },
          "metadata": {},
          "execution_count": 31
        }
      ]
    },
    {
      "cell_type": "code",
      "source": [
        "binary_decoded =[(([to_str[item] for item in pair], support)) for pair, support in binary_items]\n",
        "binary_decoded"
      ],
      "metadata": {
        "colab": {
          "base_uri": "https://localhost:8080/"
        },
        "id": "onO3D87VVm0v",
        "outputId": "0b54b1ae-01e7-4846-88b4-c5800d8d1a3f"
      },
      "execution_count": 32,
      "outputs": [
        {
          "output_type": "execute_result",
          "data": {
            "text/plain": [
              "[(['communication', 'management'], 0.34329044117647056),\n",
              " (['communication', 'skill'], 0.28921568627450983),\n",
              " (['service', 'customer'], 0.2424938725490196),\n",
              " (['communication', 'service'], 0.23253676470588236),\n",
              " (['management', 'skill'], 0.22035845588235295),\n",
              " (['communication', 'customer'], 0.2115502450980392),\n",
              " (['management', 'service'], 0.20235906862745098),\n",
              " (['management', 'customer'], 0.17769607843137256),\n",
              " (['communication', 'experience'], 0.17164522058823528),\n",
              " (['communication', 'teamwork'], 0.16881127450980393),\n",
              " (['communication', 'leadership'], 0.16337316176470587),\n",
              " (['management', 'leadership'], 0.16207107843137256),\n",
              " (['management', 'experience'], 0.1565563725490196),\n",
              " (['management', 'time'], 0.14238664215686275),\n",
              " (['communication', 'work'], 0.13840379901960784),\n",
              " (['skill', 'service'], 0.13671875),\n",
              " (['communication', 'time'], 0.13097426470588236),\n",
              " (['management', 'team'], 0.13074448529411764),\n",
              " (['skill', 'experience'], 0.12913602941176472),\n",
              " (['communication', 'team'], 0.12706801470588236),\n",
              " (['office', 'microsoft'], 0.12277879901960784),\n",
              " (['skill', 'customer'], 0.12231924019607843),\n",
              " (['management', 'project'], 0.12147671568627451),\n",
              " (['communication', 'problemsolving'], 0.12055759803921569),\n",
              " (['problem', 'solving'], 0.11925551470588236),\n",
              " (['communication', 'office'], 0.1174938725490196),\n",
              " (['management', 'teamwork'], 0.1174938725490196),\n",
              " (['management', 'work'], 0.11680453431372549),\n",
              " (['communication', 'safety'], 0.11534926470588236),\n",
              " (['communication', 'microsoft'], 0.11504289215686274),\n",
              " (['communication', 'problem'], 0.11488970588235294),\n",
              " (['management', 'office'], 0.11465992647058823),\n",
              " (['management', 'development'], 0.11328125),\n",
              " (['service', 'experience'], 0.11174938725490197),\n",
              " (['management', 'microsoft'], 0.11090686274509803),\n",
              " (['care', 'patient'], 0.1096813725490196),\n",
              " (['management', 'safety'], 0.1094515931372549),\n",
              " (['management', 'training'], 0.10784313725490197),\n",
              " (['communication', 'solving'], 0.10631127450980392),\n",
              " (['school', 'high'], 0.10592830882352941),\n",
              " (['detail', 'attention'], 0.1052389705882353),\n",
              " (['management', 'analysis'], 0.10508578431372549),\n",
              " (['communication', 'development'], 0.10386029411764706),\n",
              " (['communication', 'training'], 0.1015625),\n",
              " (['management', 'degree'], 0.10003063725490197),\n",
              " (['communication', 'detail'], 0.09972426470588236),\n",
              " (['management', 'data'], 0.09911151960784313),\n",
              " (['communication', 'degree'], 0.09880514705882353),\n",
              " (['customer', 'sale'], 0.09880514705882353),\n",
              " (['skill', 'work'], 0.09880514705882353)]"
            ]
          },
          "metadata": {},
          "execution_count": 32
        }
      ]
    },
    {
      "cell_type": "code",
      "source": [
        "triple_items = items_comb(3)\n",
        "triple_items"
      ],
      "metadata": {
        "colab": {
          "base_uri": "https://localhost:8080/"
        },
        "id": "-saxRlBr5Sok",
        "outputId": "3fb77ee2-eb43-4e07-b24e-475a85eb2004"
      },
      "execution_count": 33,
      "outputs": [
        {
          "output_type": "execute_result",
          "data": {
            "text/plain": [
              "[((15965, 2, 3193), 0.19010416666666666),\n",
              " ((15965, 12787, 6350), 0.18857230392156862),\n",
              " ((15965, 2, 12787), 0.1526501225490196),\n",
              " ((2, 12787, 6350), 0.15104166666666666),\n",
              " ((15965, 2, 6350), 0.1404718137254902),\n",
              " ((15965, 2, 12805), 0.13151041666666666),\n",
              " ((15965, 2, 15961), 0.12071078431372549),\n",
              " ((15965, 3193, 12787), 0.11795343137254902),\n",
              " ((15965, 2, 15972), 0.11144301470588236),\n",
              " ((15965, 2, 6382), 0.1094515931372549),\n",
              " ((15965, 3193, 15972), 0.10723039215686274),\n",
              " ((15965, 3193, 6350), 0.10677083333333333),\n",
              " ((15965, 3224, 53), 0.10631127450980392),\n",
              " ((3193, 12787, 6350), 0.10493259803921569)]"
            ]
          },
          "metadata": {},
          "execution_count": 33
        }
      ]
    },
    {
      "cell_type": "code",
      "source": [
        "len(triple_items)"
      ],
      "metadata": {
        "colab": {
          "base_uri": "https://localhost:8080/"
        },
        "id": "vxi6Ulma5cTq",
        "outputId": "d488a0e3-706f-4fde-b0f5-d2182865c100"
      },
      "execution_count": 34,
      "outputs": [
        {
          "output_type": "execute_result",
          "data": {
            "text/plain": [
              "14"
            ]
          },
          "metadata": {},
          "execution_count": 34
        }
      ]
    },
    {
      "cell_type": "code",
      "source": [
        "triple_decoded =[(([to_str[item] for item in triple], support)) for triple, support in triple_items]\n",
        "triple_decoded"
      ],
      "metadata": {
        "colab": {
          "base_uri": "https://localhost:8080/"
        },
        "id": "-0ROxMw3YvRO",
        "outputId": "45cca95a-c8a2-4abe-e848-059b85fbc3a2"
      },
      "execution_count": 35,
      "outputs": [
        {
          "output_type": "execute_result",
          "data": {
            "text/plain": [
              "[(['communication', 'management', 'skill'], 0.19010416666666666),\n",
              " (['communication', 'service', 'customer'], 0.18857230392156862),\n",
              " (['communication', 'management', 'service'], 0.1526501225490196),\n",
              " (['management', 'service', 'customer'], 0.15104166666666666),\n",
              " (['communication', 'management', 'customer'], 0.1404718137254902),\n",
              " (['communication', 'management', 'leadership'], 0.13151041666666666),\n",
              " (['communication', 'management', 'time'], 0.12071078431372549),\n",
              " (['communication', 'skill', 'service'], 0.11795343137254902),\n",
              " (['communication', 'management', 'experience'], 0.11144301470588236),\n",
              " (['communication', 'management', 'teamwork'], 0.1094515931372549),\n",
              " (['communication', 'skill', 'experience'], 0.10723039215686274),\n",
              " (['communication', 'skill', 'customer'], 0.10677083333333333),\n",
              " (['communication', 'problem', 'solving'], 0.10631127450980392),\n",
              " (['skill', 'service', 'customer'], 0.10493259803921569)]"
            ]
          },
          "metadata": {},
          "execution_count": 35
        }
      ]
    },
    {
      "cell_type": "code",
      "source": [
        "supports = filtered_support.collect()\n",
        "supports = [(to_str[item], support) for item, support in supports]"
      ],
      "metadata": {
        "id": "iAvpcsT_5rjA"
      },
      "execution_count": 37,
      "outputs": []
    },
    {
      "cell_type": "code",
      "source": [
        "supports"
      ],
      "metadata": {
        "colab": {
          "base_uri": "https://localhost:8080/"
        },
        "id": "YgdJAv8DZ1GB",
        "outputId": "b0851e69-a92d-4c71-b952-282e96277b65"
      },
      "execution_count": 38,
      "outputs": [
        {
          "output_type": "execute_result",
          "data": {
            "text/plain": [
              "[('communication', 0.5346966911764706),\n",
              " ('management', 0.5017616421568627),\n",
              " ('skill', 0.34964767156862747),\n",
              " ('service', 0.3368566176470588),\n",
              " ('experience', 0.2824754901960784),\n",
              " ('customer', 0.27987132352941174),\n",
              " ('leadership', 0.21239276960784315),\n",
              " ('work', 0.20917585784313725),\n",
              " ('teamwork', 0.18972120098039216),\n",
              " ('team', 0.18512561274509803),\n",
              " ('license', 0.18075980392156862),\n",
              " ('care', 0.1793811274509804),\n",
              " ('time', 0.17080269607843138),\n",
              " ('safety', 0.17003676470588236),\n",
              " ('development', 0.16950061274509803),\n",
              " ('training', 0.16796875),\n",
              " ('degree', 0.16413909313725492),\n",
              " ('office', 0.16214767156862744),\n",
              " ('medical', 0.16191789215686275),\n",
              " ('microsoft', 0.15939031862745098),\n",
              " ('health', 0.15739889705882354),\n",
              " ('system', 0.15625),\n",
              " ('certification', 0.14958639705882354),\n",
              " ('data', 0.14882046568627452),\n",
              " ('analysis', 0.14529718137254902),\n",
              " ('project', 0.13602941176470587),\n",
              " ('problem', 0.1329656862745098),\n",
              " ('problemsolving', 0.13128063725490197),\n",
              " ('patient', 0.12837009803921567),\n",
              " ('sale', 0.1282935049019608),\n",
              " ('school', 0.12614889705882354),\n",
              " ('planning', 0.1247702205882353),\n",
              " ('quality', 0.12162990196078431),\n",
              " ('high', 0.11979166666666667),\n",
              " ('program', 0.11963848039215687),\n",
              " ('solving', 0.11925551470588236),\n",
              " ('ability', 0.11879595588235294),\n",
              " ('control', 0.11565563725490197),\n",
              " ('detail', 0.11450674019607843),\n",
              " ('nursing', 0.11052389705882353),\n",
              " ('plan', 0.10768995098039216),\n",
              " ('insurance', 0.10700061274509803),\n",
              " ('bachelor', 0.10684742647058823),\n",
              " ('business', 0.10654105392156862),\n",
              " ('attention', 0.10608149509803921),\n",
              " ('education', 0.1053155637254902),\n",
              " ('computer', 0.1053155637254902),\n",
              " ('physical', 0.10401348039215687),\n",
              " ('collaboration', 0.10386029411764706),\n",
              " ('environment', 0.10209865196078431),\n",
              " ('diploma', 0.10194546568627451),\n",
              " ('knowledge', 0.10087316176470588),\n",
              " ('operation', 0.09888174019607843)]"
            ]
          },
          "metadata": {},
          "execution_count": 38
        }
      ]
    },
    {
      "cell_type": "code",
      "source": [
        "supports_dict = {item: count for item, count in supports}\n",
        "rules1 = []\n",
        "\n",
        "for items, supp in binary_decoded:\n",
        "  item1, item2 = items\n",
        "  if item1 in supports_dict and item2 in supports_dict:\n",
        "    antecdent= item1\n",
        "    ante_supp = supports_dict[item1]\n",
        "    confidence = (supp) / (ante_supp)\n",
        "    consequent_supp = supports_dict[item2]\n",
        "    consequent = item2\n",
        "    lift = confidence / (consequent_supp)\n",
        "    if confidence >= 0.7:\n",
        "     rules1.append((item1, item2, round(supp,4), round(confidence, 4), round(lift, 4)))\n",
        "\n",
        "\n",
        "  if item1 in supports_dict and item2 in supports_dict:\n",
        "    antecedent = item2\n",
        "    ante_supp = supports_dict[item2]\n",
        "    confidence = (supp) / (ante_supp)\n",
        "    consequent_supp = supports_dict[item1]\n",
        "    consequent = item1\n",
        "    lift = confidence / (consequent_supp)\n",
        "    if confidence >= 0.7:\n",
        "     rules1.append((item2, item1, round(supp,4), round(confidence, 4), round(lift, 4)))"
      ],
      "metadata": {
        "id": "gG-4CbHf5t8_"
      },
      "execution_count": 47,
      "outputs": []
    },
    {
      "cell_type": "code",
      "source": [
        "rules1"
      ],
      "metadata": {
        "colab": {
          "base_uri": "https://localhost:8080/"
        },
        "id": "FawtefE36h03",
        "outputId": "f186afaf-f43c-4bab-971b-94c86d652692"
      },
      "execution_count": 48,
      "outputs": [
        {
          "output_type": "execute_result",
          "data": {
            "text/plain": [
              "[('skill', 'communication', 0.2892, 0.8272, 1.547),\n",
              " ('service', 'customer', 0.2425, 0.7199, 2.5722),\n",
              " ('customer', 'service', 0.2425, 0.8664, 2.5722),\n",
              " ('customer', 'communication', 0.2116, 0.7559, 1.4137),\n",
              " ('teamwork', 'communication', 0.1688, 0.8898, 1.6641),\n",
              " ('leadership', 'communication', 0.1634, 0.7692, 1.4386),\n",
              " ('leadership', 'management', 0.1621, 0.7631, 1.5208),\n",
              " ('time', 'management', 0.1424, 0.8336, 1.6614),\n",
              " ('time', 'communication', 0.131, 0.7668, 1.4341),\n",
              " ('team', 'management', 0.1307, 0.7062, 1.4075),\n",
              " ('office', 'microsoft', 0.1228, 0.7572, 4.7506),\n",
              " ('microsoft', 'office', 0.1228, 0.7703, 4.7506),\n",
              " ('project', 'management', 0.1215, 0.893, 1.7798),\n",
              " ('problemsolving', 'communication', 0.1206, 0.9183, 1.7175),\n",
              " ('problem', 'solving', 0.1193, 0.8969, 7.5207),\n",
              " ('solving', 'problem', 0.1193, 1.0, 7.5207),\n",
              " ('office', 'communication', 0.1175, 0.7246, 1.3552),\n",
              " ('microsoft', 'communication', 0.115, 0.7218, 1.3499),\n",
              " ('problem', 'communication', 0.1149, 0.8641, 1.616),\n",
              " ('office', 'management', 0.1147, 0.7071, 1.4093),\n",
              " ('patient', 'care', 0.1097, 0.8544, 4.7631),\n",
              " ('solving', 'communication', 0.1063, 0.8915, 1.6672),\n",
              " ('school', 'high', 0.1059, 0.8397, 7.0097),\n",
              " ('high', 'school', 0.1059, 0.8843, 7.0097),\n",
              " ('detail', 'attention', 0.1052, 0.9191, 8.6637),\n",
              " ('attention', 'detail', 0.1052, 0.9921, 8.6637),\n",
              " ('analysis', 'management', 0.1051, 0.7232, 1.4414),\n",
              " ('detail', 'communication', 0.0997, 0.8709, 1.6288),\n",
              " ('sale', 'customer', 0.0988, 0.7701, 2.7518)]"
            ]
          },
          "metadata": {},
          "execution_count": 48
        }
      ]
    },
    {
      "cell_type": "code",
      "source": [
        "len(rules1)"
      ],
      "metadata": {
        "colab": {
          "base_uri": "https://localhost:8080/"
        },
        "id": "3xZItLnq6o0j",
        "outputId": "8d764df9-70cc-473c-8b15-c1d3d77a74bb"
      },
      "execution_count": 49,
      "outputs": [
        {
          "output_type": "execute_result",
          "data": {
            "text/plain": [
              "29"
            ]
          },
          "metadata": {},
          "execution_count": 49
        }
      ]
    },
    {
      "cell_type": "code",
      "source": [
        "binary_dict = {tuple(item): count for item, count in binary_decoded}\n",
        "rules2 = []\n",
        "\n",
        "for items, supp in triple_decoded:\n",
        "  item1, item2, item3 = items\n",
        "  if (item1, item2) in binary_dict and item3 in supports_dict:\n",
        "    antecdent= (item1, item2)\n",
        "    ante_supp = binary_dict[(item1, item2)]\n",
        "    confidence = supp / ante_supp\n",
        "    consequent_supp = supports_dict[item3]\n",
        "    consequent = item3\n",
        "    lift = confidence / consequent_supp\n",
        "    if confidence >= 0.7:\n",
        "     rules2.append(((item1, item2), item3, round(supp,4), round(confidence, 4), round(lift, 4)))\n",
        "\n",
        "\n",
        "  if item3 in supports_dict and (item1, item2) in binary_dict:\n",
        "    antecedent = item3\n",
        "    ante_supp = supports_dict[item3]\n",
        "    confidence = supp / ante_supp\n",
        "    consequent_supp = binary_dict[(item1, item2)]\n",
        "    consequent = (item1, item2)\n",
        "    lift = confidence / consequent_supp\n",
        "    if confidence >= 0.7:\n",
        "     rules2.append((item3, (item1, item2), round(supp,4), round(confidence, 4), round(lift, 4)))\n"
      ],
      "metadata": {
        "id": "U7p3H2Ok6tiN"
      },
      "execution_count": 50,
      "outputs": []
    },
    {
      "cell_type": "code",
      "source": [
        "rules2"
      ],
      "metadata": {
        "colab": {
          "base_uri": "https://localhost:8080/"
        },
        "id": "cgt_GhzZ6i0A",
        "outputId": "2e1375ca-97d0-46e8-a2d1-45363f3a43a2"
      },
      "execution_count": 51,
      "outputs": [
        {
          "output_type": "execute_result",
          "data": {
            "text/plain": [
              "[(('communication', 'service'), 'customer', 0.1886, 0.8109, 2.8975),\n",
              " (('management', 'service'), 'customer', 0.151, 0.7464, 2.667),\n",
              " ('time', ('communication', 'management'), 0.1207, 0.7067, 2.0587),\n",
              " (('communication', 'problem'), 'solving', 0.1063, 0.9253, 7.7592),\n",
              " ('solving', ('communication', 'problem'), 0.1063, 0.8915, 7.7592),\n",
              " (('skill', 'service'), 'customer', 0.1049, 0.7675, 2.7424)]"
            ]
          },
          "metadata": {},
          "execution_count": 51
        }
      ]
    },
    {
      "cell_type": "code",
      "source": [
        "len(rules2)"
      ],
      "metadata": {
        "colab": {
          "base_uri": "https://localhost:8080/"
        },
        "id": "3nFu3MQ_602O",
        "outputId": "47c8ad01-98bc-4810-8cae-afc1ca4ca2ea"
      },
      "execution_count": 52,
      "outputs": [
        {
          "output_type": "execute_result",
          "data": {
            "text/plain": [
              "6"
            ]
          },
          "metadata": {},
          "execution_count": 52
        }
      ]
    },
    {
      "cell_type": "code",
      "source": [
        "import pandas as pd\n",
        "\n",
        "df_rules1 = pd.DataFrame(rules1, columns=['Antecedent', 'Consequent', 'Support','Confidence', 'Lift'])\n",
        "\n",
        "df_rules2 = pd.DataFrame(rules2, columns=['Antecedent', 'Consequent', 'Support', 'Confidence', 'Lift'])\n",
        "\n",
        "rules = pd.concat([df_rules1, df_rules2], ignore_index=True)"
      ],
      "metadata": {
        "id": "_jIYRFbV637M"
      },
      "execution_count": 53,
      "outputs": []
    },
    {
      "cell_type": "code",
      "source": [
        "rules_shuffled = rules.sample(frac=1).reset_index(drop=True)\n",
        "\n",
        "rules_shuffled"
      ],
      "metadata": {
        "colab": {
          "base_uri": "https://localhost:8080/",
          "height": 1000
        },
        "id": "MpldYW_k69Fi",
        "outputId": "cdede1bb-57eb-41c3-a063-49aff68f1e44"
      },
      "execution_count": 55,
      "outputs": [
        {
          "output_type": "execute_result",
          "data": {
            "text/plain": [
              "                  Antecedent                   Consequent  Support  \\\n",
              "0                       time                   management   0.1424   \n",
              "1                    patient                         care   0.1097   \n",
              "2           (skill, service)                     customer   0.1049   \n",
              "3                     office                communication   0.1175   \n",
              "4                     school                         high   0.1059   \n",
              "5                     office                    microsoft   0.1228   \n",
              "6                    solving                      problem   0.1193   \n",
              "7                    solving     (communication, problem)   0.1063   \n",
              "8                      skill                communication   0.2892   \n",
              "9                     detail                    attention   0.1052   \n",
              "10                      time  (communication, management)   0.1207   \n",
              "11  (communication, problem)                      solving   0.1063   \n",
              "12                      time                communication   0.1310   \n",
              "13                 attention                       detail   0.1052   \n",
              "14                   problem                communication   0.1149   \n",
              "15                   solving                communication   0.1063   \n",
              "16                    detail                communication   0.0997   \n",
              "17                      sale                     customer   0.0988   \n",
              "18                 microsoft                       office   0.1228   \n",
              "19                   service                     customer   0.2425   \n",
              "20                   problem                      solving   0.1193   \n",
              "21                  customer                      service   0.2425   \n",
              "22                      high                       school   0.1059   \n",
              "23            problemsolving                communication   0.1206   \n",
              "24                    office                   management   0.1147   \n",
              "25                 microsoft                communication   0.1150   \n",
              "26                  teamwork                communication   0.1688   \n",
              "27                  customer                communication   0.2116   \n",
              "28                leadership                   management   0.1621   \n",
              "29                leadership                communication   0.1634   \n",
              "30                  analysis                   management   0.1051   \n",
              "31                   project                   management   0.1215   \n",
              "32     (management, service)                     customer   0.1510   \n",
              "33                      team                   management   0.1307   \n",
              "34  (communication, service)                     customer   0.1886   \n",
              "\n",
              "    Confidence    Lift  \n",
              "0       0.8336  1.6614  \n",
              "1       0.8544  4.7631  \n",
              "2       0.7675  2.7424  \n",
              "3       0.7246  1.3552  \n",
              "4       0.8397  7.0097  \n",
              "5       0.7572  4.7506  \n",
              "6       1.0000  7.5207  \n",
              "7       0.8915  7.7592  \n",
              "8       0.8272  1.5470  \n",
              "9       0.9191  8.6637  \n",
              "10      0.7067  2.0587  \n",
              "11      0.9253  7.7592  \n",
              "12      0.7668  1.4341  \n",
              "13      0.9921  8.6637  \n",
              "14      0.8641  1.6160  \n",
              "15      0.8915  1.6672  \n",
              "16      0.8709  1.6288  \n",
              "17      0.7701  2.7518  \n",
              "18      0.7703  4.7506  \n",
              "19      0.7199  2.5722  \n",
              "20      0.8969  7.5207  \n",
              "21      0.8664  2.5722  \n",
              "22      0.8843  7.0097  \n",
              "23      0.9183  1.7175  \n",
              "24      0.7071  1.4093  \n",
              "25      0.7218  1.3499  \n",
              "26      0.8898  1.6641  \n",
              "27      0.7559  1.4137  \n",
              "28      0.7631  1.5208  \n",
              "29      0.7692  1.4386  \n",
              "30      0.7232  1.4414  \n",
              "31      0.8930  1.7798  \n",
              "32      0.7464  2.6670  \n",
              "33      0.7062  1.4075  \n",
              "34      0.8109  2.8975  "
            ],
            "text/html": [
              "\n",
              "  <div id=\"df-525aa37f-bd2d-4ed0-9fdb-a3a6350fd1a4\" class=\"colab-df-container\">\n",
              "    <div>\n",
              "<style scoped>\n",
              "    .dataframe tbody tr th:only-of-type {\n",
              "        vertical-align: middle;\n",
              "    }\n",
              "\n",
              "    .dataframe tbody tr th {\n",
              "        vertical-align: top;\n",
              "    }\n",
              "\n",
              "    .dataframe thead th {\n",
              "        text-align: right;\n",
              "    }\n",
              "</style>\n",
              "<table border=\"1\" class=\"dataframe\">\n",
              "  <thead>\n",
              "    <tr style=\"text-align: right;\">\n",
              "      <th></th>\n",
              "      <th>Antecedent</th>\n",
              "      <th>Consequent</th>\n",
              "      <th>Support</th>\n",
              "      <th>Confidence</th>\n",
              "      <th>Lift</th>\n",
              "    </tr>\n",
              "  </thead>\n",
              "  <tbody>\n",
              "    <tr>\n",
              "      <th>0</th>\n",
              "      <td>time</td>\n",
              "      <td>management</td>\n",
              "      <td>0.1424</td>\n",
              "      <td>0.8336</td>\n",
              "      <td>1.6614</td>\n",
              "    </tr>\n",
              "    <tr>\n",
              "      <th>1</th>\n",
              "      <td>patient</td>\n",
              "      <td>care</td>\n",
              "      <td>0.1097</td>\n",
              "      <td>0.8544</td>\n",
              "      <td>4.7631</td>\n",
              "    </tr>\n",
              "    <tr>\n",
              "      <th>2</th>\n",
              "      <td>(skill, service)</td>\n",
              "      <td>customer</td>\n",
              "      <td>0.1049</td>\n",
              "      <td>0.7675</td>\n",
              "      <td>2.7424</td>\n",
              "    </tr>\n",
              "    <tr>\n",
              "      <th>3</th>\n",
              "      <td>office</td>\n",
              "      <td>communication</td>\n",
              "      <td>0.1175</td>\n",
              "      <td>0.7246</td>\n",
              "      <td>1.3552</td>\n",
              "    </tr>\n",
              "    <tr>\n",
              "      <th>4</th>\n",
              "      <td>school</td>\n",
              "      <td>high</td>\n",
              "      <td>0.1059</td>\n",
              "      <td>0.8397</td>\n",
              "      <td>7.0097</td>\n",
              "    </tr>\n",
              "    <tr>\n",
              "      <th>5</th>\n",
              "      <td>office</td>\n",
              "      <td>microsoft</td>\n",
              "      <td>0.1228</td>\n",
              "      <td>0.7572</td>\n",
              "      <td>4.7506</td>\n",
              "    </tr>\n",
              "    <tr>\n",
              "      <th>6</th>\n",
              "      <td>solving</td>\n",
              "      <td>problem</td>\n",
              "      <td>0.1193</td>\n",
              "      <td>1.0000</td>\n",
              "      <td>7.5207</td>\n",
              "    </tr>\n",
              "    <tr>\n",
              "      <th>7</th>\n",
              "      <td>solving</td>\n",
              "      <td>(communication, problem)</td>\n",
              "      <td>0.1063</td>\n",
              "      <td>0.8915</td>\n",
              "      <td>7.7592</td>\n",
              "    </tr>\n",
              "    <tr>\n",
              "      <th>8</th>\n",
              "      <td>skill</td>\n",
              "      <td>communication</td>\n",
              "      <td>0.2892</td>\n",
              "      <td>0.8272</td>\n",
              "      <td>1.5470</td>\n",
              "    </tr>\n",
              "    <tr>\n",
              "      <th>9</th>\n",
              "      <td>detail</td>\n",
              "      <td>attention</td>\n",
              "      <td>0.1052</td>\n",
              "      <td>0.9191</td>\n",
              "      <td>8.6637</td>\n",
              "    </tr>\n",
              "    <tr>\n",
              "      <th>10</th>\n",
              "      <td>time</td>\n",
              "      <td>(communication, management)</td>\n",
              "      <td>0.1207</td>\n",
              "      <td>0.7067</td>\n",
              "      <td>2.0587</td>\n",
              "    </tr>\n",
              "    <tr>\n",
              "      <th>11</th>\n",
              "      <td>(communication, problem)</td>\n",
              "      <td>solving</td>\n",
              "      <td>0.1063</td>\n",
              "      <td>0.9253</td>\n",
              "      <td>7.7592</td>\n",
              "    </tr>\n",
              "    <tr>\n",
              "      <th>12</th>\n",
              "      <td>time</td>\n",
              "      <td>communication</td>\n",
              "      <td>0.1310</td>\n",
              "      <td>0.7668</td>\n",
              "      <td>1.4341</td>\n",
              "    </tr>\n",
              "    <tr>\n",
              "      <th>13</th>\n",
              "      <td>attention</td>\n",
              "      <td>detail</td>\n",
              "      <td>0.1052</td>\n",
              "      <td>0.9921</td>\n",
              "      <td>8.6637</td>\n",
              "    </tr>\n",
              "    <tr>\n",
              "      <th>14</th>\n",
              "      <td>problem</td>\n",
              "      <td>communication</td>\n",
              "      <td>0.1149</td>\n",
              "      <td>0.8641</td>\n",
              "      <td>1.6160</td>\n",
              "    </tr>\n",
              "    <tr>\n",
              "      <th>15</th>\n",
              "      <td>solving</td>\n",
              "      <td>communication</td>\n",
              "      <td>0.1063</td>\n",
              "      <td>0.8915</td>\n",
              "      <td>1.6672</td>\n",
              "    </tr>\n",
              "    <tr>\n",
              "      <th>16</th>\n",
              "      <td>detail</td>\n",
              "      <td>communication</td>\n",
              "      <td>0.0997</td>\n",
              "      <td>0.8709</td>\n",
              "      <td>1.6288</td>\n",
              "    </tr>\n",
              "    <tr>\n",
              "      <th>17</th>\n",
              "      <td>sale</td>\n",
              "      <td>customer</td>\n",
              "      <td>0.0988</td>\n",
              "      <td>0.7701</td>\n",
              "      <td>2.7518</td>\n",
              "    </tr>\n",
              "    <tr>\n",
              "      <th>18</th>\n",
              "      <td>microsoft</td>\n",
              "      <td>office</td>\n",
              "      <td>0.1228</td>\n",
              "      <td>0.7703</td>\n",
              "      <td>4.7506</td>\n",
              "    </tr>\n",
              "    <tr>\n",
              "      <th>19</th>\n",
              "      <td>service</td>\n",
              "      <td>customer</td>\n",
              "      <td>0.2425</td>\n",
              "      <td>0.7199</td>\n",
              "      <td>2.5722</td>\n",
              "    </tr>\n",
              "    <tr>\n",
              "      <th>20</th>\n",
              "      <td>problem</td>\n",
              "      <td>solving</td>\n",
              "      <td>0.1193</td>\n",
              "      <td>0.8969</td>\n",
              "      <td>7.5207</td>\n",
              "    </tr>\n",
              "    <tr>\n",
              "      <th>21</th>\n",
              "      <td>customer</td>\n",
              "      <td>service</td>\n",
              "      <td>0.2425</td>\n",
              "      <td>0.8664</td>\n",
              "      <td>2.5722</td>\n",
              "    </tr>\n",
              "    <tr>\n",
              "      <th>22</th>\n",
              "      <td>high</td>\n",
              "      <td>school</td>\n",
              "      <td>0.1059</td>\n",
              "      <td>0.8843</td>\n",
              "      <td>7.0097</td>\n",
              "    </tr>\n",
              "    <tr>\n",
              "      <th>23</th>\n",
              "      <td>problemsolving</td>\n",
              "      <td>communication</td>\n",
              "      <td>0.1206</td>\n",
              "      <td>0.9183</td>\n",
              "      <td>1.7175</td>\n",
              "    </tr>\n",
              "    <tr>\n",
              "      <th>24</th>\n",
              "      <td>office</td>\n",
              "      <td>management</td>\n",
              "      <td>0.1147</td>\n",
              "      <td>0.7071</td>\n",
              "      <td>1.4093</td>\n",
              "    </tr>\n",
              "    <tr>\n",
              "      <th>25</th>\n",
              "      <td>microsoft</td>\n",
              "      <td>communication</td>\n",
              "      <td>0.1150</td>\n",
              "      <td>0.7218</td>\n",
              "      <td>1.3499</td>\n",
              "    </tr>\n",
              "    <tr>\n",
              "      <th>26</th>\n",
              "      <td>teamwork</td>\n",
              "      <td>communication</td>\n",
              "      <td>0.1688</td>\n",
              "      <td>0.8898</td>\n",
              "      <td>1.6641</td>\n",
              "    </tr>\n",
              "    <tr>\n",
              "      <th>27</th>\n",
              "      <td>customer</td>\n",
              "      <td>communication</td>\n",
              "      <td>0.2116</td>\n",
              "      <td>0.7559</td>\n",
              "      <td>1.4137</td>\n",
              "    </tr>\n",
              "    <tr>\n",
              "      <th>28</th>\n",
              "      <td>leadership</td>\n",
              "      <td>management</td>\n",
              "      <td>0.1621</td>\n",
              "      <td>0.7631</td>\n",
              "      <td>1.5208</td>\n",
              "    </tr>\n",
              "    <tr>\n",
              "      <th>29</th>\n",
              "      <td>leadership</td>\n",
              "      <td>communication</td>\n",
              "      <td>0.1634</td>\n",
              "      <td>0.7692</td>\n",
              "      <td>1.4386</td>\n",
              "    </tr>\n",
              "    <tr>\n",
              "      <th>30</th>\n",
              "      <td>analysis</td>\n",
              "      <td>management</td>\n",
              "      <td>0.1051</td>\n",
              "      <td>0.7232</td>\n",
              "      <td>1.4414</td>\n",
              "    </tr>\n",
              "    <tr>\n",
              "      <th>31</th>\n",
              "      <td>project</td>\n",
              "      <td>management</td>\n",
              "      <td>0.1215</td>\n",
              "      <td>0.8930</td>\n",
              "      <td>1.7798</td>\n",
              "    </tr>\n",
              "    <tr>\n",
              "      <th>32</th>\n",
              "      <td>(management, service)</td>\n",
              "      <td>customer</td>\n",
              "      <td>0.1510</td>\n",
              "      <td>0.7464</td>\n",
              "      <td>2.6670</td>\n",
              "    </tr>\n",
              "    <tr>\n",
              "      <th>33</th>\n",
              "      <td>team</td>\n",
              "      <td>management</td>\n",
              "      <td>0.1307</td>\n",
              "      <td>0.7062</td>\n",
              "      <td>1.4075</td>\n",
              "    </tr>\n",
              "    <tr>\n",
              "      <th>34</th>\n",
              "      <td>(communication, service)</td>\n",
              "      <td>customer</td>\n",
              "      <td>0.1886</td>\n",
              "      <td>0.8109</td>\n",
              "      <td>2.8975</td>\n",
              "    </tr>\n",
              "  </tbody>\n",
              "</table>\n",
              "</div>\n",
              "    <div class=\"colab-df-buttons\">\n",
              "\n",
              "  <div class=\"colab-df-container\">\n",
              "    <button class=\"colab-df-convert\" onclick=\"convertToInteractive('df-525aa37f-bd2d-4ed0-9fdb-a3a6350fd1a4')\"\n",
              "            title=\"Convert this dataframe to an interactive table.\"\n",
              "            style=\"display:none;\">\n",
              "\n",
              "  <svg xmlns=\"http://www.w3.org/2000/svg\" height=\"24px\" viewBox=\"0 -960 960 960\">\n",
              "    <path d=\"M120-120v-720h720v720H120Zm60-500h600v-160H180v160Zm220 220h160v-160H400v160Zm0 220h160v-160H400v160ZM180-400h160v-160H180v160Zm440 0h160v-160H620v160ZM180-180h160v-160H180v160Zm440 0h160v-160H620v160Z\"/>\n",
              "  </svg>\n",
              "    </button>\n",
              "\n",
              "  <style>\n",
              "    .colab-df-container {\n",
              "      display:flex;\n",
              "      gap: 12px;\n",
              "    }\n",
              "\n",
              "    .colab-df-convert {\n",
              "      background-color: #E8F0FE;\n",
              "      border: none;\n",
              "      border-radius: 50%;\n",
              "      cursor: pointer;\n",
              "      display: none;\n",
              "      fill: #1967D2;\n",
              "      height: 32px;\n",
              "      padding: 0 0 0 0;\n",
              "      width: 32px;\n",
              "    }\n",
              "\n",
              "    .colab-df-convert:hover {\n",
              "      background-color: #E2EBFA;\n",
              "      box-shadow: 0px 1px 2px rgba(60, 64, 67, 0.3), 0px 1px 3px 1px rgba(60, 64, 67, 0.15);\n",
              "      fill: #174EA6;\n",
              "    }\n",
              "\n",
              "    .colab-df-buttons div {\n",
              "      margin-bottom: 4px;\n",
              "    }\n",
              "\n",
              "    [theme=dark] .colab-df-convert {\n",
              "      background-color: #3B4455;\n",
              "      fill: #D2E3FC;\n",
              "    }\n",
              "\n",
              "    [theme=dark] .colab-df-convert:hover {\n",
              "      background-color: #434B5C;\n",
              "      box-shadow: 0px 1px 3px 1px rgba(0, 0, 0, 0.15);\n",
              "      filter: drop-shadow(0px 1px 2px rgba(0, 0, 0, 0.3));\n",
              "      fill: #FFFFFF;\n",
              "    }\n",
              "  </style>\n",
              "\n",
              "    <script>\n",
              "      const buttonEl =\n",
              "        document.querySelector('#df-525aa37f-bd2d-4ed0-9fdb-a3a6350fd1a4 button.colab-df-convert');\n",
              "      buttonEl.style.display =\n",
              "        google.colab.kernel.accessAllowed ? 'block' : 'none';\n",
              "\n",
              "      async function convertToInteractive(key) {\n",
              "        const element = document.querySelector('#df-525aa37f-bd2d-4ed0-9fdb-a3a6350fd1a4');\n",
              "        const dataTable =\n",
              "          await google.colab.kernel.invokeFunction('convertToInteractive',\n",
              "                                                    [key], {});\n",
              "        if (!dataTable) return;\n",
              "\n",
              "        const docLinkHtml = 'Like what you see? Visit the ' +\n",
              "          '<a target=\"_blank\" href=https://colab.research.google.com/notebooks/data_table.ipynb>data table notebook</a>'\n",
              "          + ' to learn more about interactive tables.';\n",
              "        element.innerHTML = '';\n",
              "        dataTable['output_type'] = 'display_data';\n",
              "        await google.colab.output.renderOutput(dataTable, element);\n",
              "        const docLink = document.createElement('div');\n",
              "        docLink.innerHTML = docLinkHtml;\n",
              "        element.appendChild(docLink);\n",
              "      }\n",
              "    </script>\n",
              "  </div>\n",
              "\n",
              "\n",
              "<div id=\"df-6fd8939b-600e-4bdf-81f0-78e9800df2eb\">\n",
              "  <button class=\"colab-df-quickchart\" onclick=\"quickchart('df-6fd8939b-600e-4bdf-81f0-78e9800df2eb')\"\n",
              "            title=\"Suggest charts\"\n",
              "            style=\"display:none;\">\n",
              "\n",
              "<svg xmlns=\"http://www.w3.org/2000/svg\" height=\"24px\"viewBox=\"0 0 24 24\"\n",
              "     width=\"24px\">\n",
              "    <g>\n",
              "        <path d=\"M19 3H5c-1.1 0-2 .9-2 2v14c0 1.1.9 2 2 2h14c1.1 0 2-.9 2-2V5c0-1.1-.9-2-2-2zM9 17H7v-7h2v7zm4 0h-2V7h2v10zm4 0h-2v-4h2v4z\"/>\n",
              "    </g>\n",
              "</svg>\n",
              "  </button>\n",
              "\n",
              "<style>\n",
              "  .colab-df-quickchart {\n",
              "      --bg-color: #E8F0FE;\n",
              "      --fill-color: #1967D2;\n",
              "      --hover-bg-color: #E2EBFA;\n",
              "      --hover-fill-color: #174EA6;\n",
              "      --disabled-fill-color: #AAA;\n",
              "      --disabled-bg-color: #DDD;\n",
              "  }\n",
              "\n",
              "  [theme=dark] .colab-df-quickchart {\n",
              "      --bg-color: #3B4455;\n",
              "      --fill-color: #D2E3FC;\n",
              "      --hover-bg-color: #434B5C;\n",
              "      --hover-fill-color: #FFFFFF;\n",
              "      --disabled-bg-color: #3B4455;\n",
              "      --disabled-fill-color: #666;\n",
              "  }\n",
              "\n",
              "  .colab-df-quickchart {\n",
              "    background-color: var(--bg-color);\n",
              "    border: none;\n",
              "    border-radius: 50%;\n",
              "    cursor: pointer;\n",
              "    display: none;\n",
              "    fill: var(--fill-color);\n",
              "    height: 32px;\n",
              "    padding: 0;\n",
              "    width: 32px;\n",
              "  }\n",
              "\n",
              "  .colab-df-quickchart:hover {\n",
              "    background-color: var(--hover-bg-color);\n",
              "    box-shadow: 0 1px 2px rgba(60, 64, 67, 0.3), 0 1px 3px 1px rgba(60, 64, 67, 0.15);\n",
              "    fill: var(--button-hover-fill-color);\n",
              "  }\n",
              "\n",
              "  .colab-df-quickchart-complete:disabled,\n",
              "  .colab-df-quickchart-complete:disabled:hover {\n",
              "    background-color: var(--disabled-bg-color);\n",
              "    fill: var(--disabled-fill-color);\n",
              "    box-shadow: none;\n",
              "  }\n",
              "\n",
              "  .colab-df-spinner {\n",
              "    border: 2px solid var(--fill-color);\n",
              "    border-color: transparent;\n",
              "    border-bottom-color: var(--fill-color);\n",
              "    animation:\n",
              "      spin 1s steps(1) infinite;\n",
              "  }\n",
              "\n",
              "  @keyframes spin {\n",
              "    0% {\n",
              "      border-color: transparent;\n",
              "      border-bottom-color: var(--fill-color);\n",
              "      border-left-color: var(--fill-color);\n",
              "    }\n",
              "    20% {\n",
              "      border-color: transparent;\n",
              "      border-left-color: var(--fill-color);\n",
              "      border-top-color: var(--fill-color);\n",
              "    }\n",
              "    30% {\n",
              "      border-color: transparent;\n",
              "      border-left-color: var(--fill-color);\n",
              "      border-top-color: var(--fill-color);\n",
              "      border-right-color: var(--fill-color);\n",
              "    }\n",
              "    40% {\n",
              "      border-color: transparent;\n",
              "      border-right-color: var(--fill-color);\n",
              "      border-top-color: var(--fill-color);\n",
              "    }\n",
              "    60% {\n",
              "      border-color: transparent;\n",
              "      border-right-color: var(--fill-color);\n",
              "    }\n",
              "    80% {\n",
              "      border-color: transparent;\n",
              "      border-right-color: var(--fill-color);\n",
              "      border-bottom-color: var(--fill-color);\n",
              "    }\n",
              "    90% {\n",
              "      border-color: transparent;\n",
              "      border-bottom-color: var(--fill-color);\n",
              "    }\n",
              "  }\n",
              "</style>\n",
              "\n",
              "  <script>\n",
              "    async function quickchart(key) {\n",
              "      const quickchartButtonEl =\n",
              "        document.querySelector('#' + key + ' button');\n",
              "      quickchartButtonEl.disabled = true;  // To prevent multiple clicks.\n",
              "      quickchartButtonEl.classList.add('colab-df-spinner');\n",
              "      try {\n",
              "        const charts = await google.colab.kernel.invokeFunction(\n",
              "            'suggestCharts', [key], {});\n",
              "      } catch (error) {\n",
              "        console.error('Error during call to suggestCharts:', error);\n",
              "      }\n",
              "      quickchartButtonEl.classList.remove('colab-df-spinner');\n",
              "      quickchartButtonEl.classList.add('colab-df-quickchart-complete');\n",
              "    }\n",
              "    (() => {\n",
              "      let quickchartButtonEl =\n",
              "        document.querySelector('#df-6fd8939b-600e-4bdf-81f0-78e9800df2eb button');\n",
              "      quickchartButtonEl.style.display =\n",
              "        google.colab.kernel.accessAllowed ? 'block' : 'none';\n",
              "    })();\n",
              "  </script>\n",
              "</div>\n",
              "\n",
              "  <div id=\"id_2f0b813b-bd04-48f4-92f2-8955f93a8767\">\n",
              "    <style>\n",
              "      .colab-df-generate {\n",
              "        background-color: #E8F0FE;\n",
              "        border: none;\n",
              "        border-radius: 50%;\n",
              "        cursor: pointer;\n",
              "        display: none;\n",
              "        fill: #1967D2;\n",
              "        height: 32px;\n",
              "        padding: 0 0 0 0;\n",
              "        width: 32px;\n",
              "      }\n",
              "\n",
              "      .colab-df-generate:hover {\n",
              "        background-color: #E2EBFA;\n",
              "        box-shadow: 0px 1px 2px rgba(60, 64, 67, 0.3), 0px 1px 3px 1px rgba(60, 64, 67, 0.15);\n",
              "        fill: #174EA6;\n",
              "      }\n",
              "\n",
              "      [theme=dark] .colab-df-generate {\n",
              "        background-color: #3B4455;\n",
              "        fill: #D2E3FC;\n",
              "      }\n",
              "\n",
              "      [theme=dark] .colab-df-generate:hover {\n",
              "        background-color: #434B5C;\n",
              "        box-shadow: 0px 1px 3px 1px rgba(0, 0, 0, 0.15);\n",
              "        filter: drop-shadow(0px 1px 2px rgba(0, 0, 0, 0.3));\n",
              "        fill: #FFFFFF;\n",
              "      }\n",
              "    </style>\n",
              "    <button class=\"colab-df-generate\" onclick=\"generateWithVariable('rules_shuffled')\"\n",
              "            title=\"Generate code using this dataframe.\"\n",
              "            style=\"display:none;\">\n",
              "\n",
              "  <svg xmlns=\"http://www.w3.org/2000/svg\" height=\"24px\"viewBox=\"0 0 24 24\"\n",
              "       width=\"24px\">\n",
              "    <path d=\"M7,19H8.4L18.45,9,17,7.55,7,17.6ZM5,21V16.75L18.45,3.32a2,2,0,0,1,2.83,0l1.4,1.43a1.91,1.91,0,0,1,.58,1.4,1.91,1.91,0,0,1-.58,1.4L9.25,21ZM18.45,9,17,7.55Zm-12,3A5.31,5.31,0,0,0,4.9,8.1,5.31,5.31,0,0,0,1,6.5,5.31,5.31,0,0,0,4.9,4.9,5.31,5.31,0,0,0,6.5,1,5.31,5.31,0,0,0,8.1,4.9,5.31,5.31,0,0,0,12,6.5,5.46,5.46,0,0,0,6.5,12Z\"/>\n",
              "  </svg>\n",
              "    </button>\n",
              "    <script>\n",
              "      (() => {\n",
              "      const buttonEl =\n",
              "        document.querySelector('#id_2f0b813b-bd04-48f4-92f2-8955f93a8767 button.colab-df-generate');\n",
              "      buttonEl.style.display =\n",
              "        google.colab.kernel.accessAllowed ? 'block' : 'none';\n",
              "\n",
              "      buttonEl.onclick = () => {\n",
              "        google.colab.notebook.generateWithVariable('rules_shuffled');\n",
              "      }\n",
              "      })();\n",
              "    </script>\n",
              "  </div>\n",
              "\n",
              "    </div>\n",
              "  </div>\n"
            ],
            "application/vnd.google.colaboratory.intrinsic+json": {
              "type": "dataframe",
              "variable_name": "rules_shuffled",
              "summary": "{\n  \"name\": \"rules_shuffled\",\n  \"rows\": 35,\n  \"fields\": [\n    {\n      \"column\": \"Antecedent\",\n      \"properties\": {\n        \"dtype\": \"string\",\n        \"num_unique_values\": 24,\n        \"samples\": [\n          [\n            \"communication\",\n            \"problem\"\n          ],\n          \"problemsolving\",\n          \"time\"\n        ],\n        \"semantic_type\": \"\",\n        \"description\": \"\"\n      }\n    },\n    {\n      \"column\": \"Consequent\",\n      \"properties\": {\n        \"dtype\": \"category\",\n        \"num_unique_values\": 15,\n        \"samples\": [\n          [\n            \"communication\",\n            \"management\"\n          ],\n          \"detail\",\n          \"management\"\n        ],\n        \"semantic_type\": \"\",\n        \"description\": \"\"\n      }\n    },\n    {\n      \"column\": \"Support\",\n      \"properties\": {\n        \"dtype\": \"number\",\n        \"std\": 0.046137523327802604,\n        \"min\": 0.0988,\n        \"max\": 0.2892,\n        \"num_unique_values\": 28,\n        \"samples\": [\n          0.1052,\n          0.151,\n          0.2892\n        ],\n        \"semantic_type\": \"\",\n        \"description\": \"\"\n      }\n    },\n    {\n      \"column\": \"Confidence\",\n      \"properties\": {\n        \"dtype\": \"number\",\n        \"std\": 0.0836815502290648,\n        \"min\": 0.7062,\n        \"max\": 1.0,\n        \"num_unique_values\": 34,\n        \"samples\": [\n          0.8709,\n          0.8969,\n          0.7631\n        ],\n        \"semantic_type\": \"\",\n        \"description\": \"\"\n      }\n    },\n    {\n      \"column\": \"Lift\",\n      \"properties\": {\n        \"dtype\": \"number\",\n        \"std\": 2.5626476630707575,\n        \"min\": 1.3499,\n        \"max\": 8.6637,\n        \"num_unique_values\": 29,\n        \"samples\": [\n          1.4075,\n          2.5722,\n          1.616\n        ],\n        \"semantic_type\": \"\",\n        \"description\": \"\"\n      }\n    }\n  ]\n}"
            }
          },
          "metadata": {},
          "execution_count": 55
        }
      ]
    },
    {
      "cell_type": "code",
      "source": [],
      "metadata": {
        "id": "zYjrp8q470O3"
      },
      "execution_count": null,
      "outputs": []
    }
  ]
}